{
 "cells": [
  {
   "cell_type": "code",
   "execution_count": 1,
   "metadata": {},
   "outputs": [],
   "source": [
    "a, b, Da, Db, alpha, beta, k, k2 = var('a, b, Da, Db, alpha, beta, k, k2', domain=RR)\n",
    "\n",
    "f = (\n",
    "    a - a^3 - b + alpha,\n",
    "    (a - b)*beta\n",
    ")\n",
    "\n",
    "J = jacobian(f,(a,b))\n",
    "D = matrix([[Da,0],[0,Db]])\n",
    "A = J - k2*D"
   ]
  },
  {
   "cell_type": "code",
   "execution_count": 2,
   "metadata": {},
   "outputs": [],
   "source": [
    "d = A.determinant()\n",
    "t = A.trace()\n",
    "\n",
    "a_eq = -0.005**(1/3)\n",
    "b_eq = -0.005**(1/3)\n",
    "concrete = {Da:1.0, Db:100, alpha:-0.005, beta:10,a:a_eq,b:b_eq}\n",
    "\n",
    "d0 = d.substitute(concrete)\n",
    "t0 = t.substitute(concrete)"
   ]
  },
  {
   "cell_type": "code",
   "execution_count": 10,
   "metadata": {},
   "outputs": [
    {
     "data": {
      "text/html": [
       "<html><script type=\"math/tex; mode=display\">\\newcommand{\\Bold}[1]{\\mathbf{#1}}{\\left(3 \\, a^{2} + \\mathit{Da} k_{2} - 1\\right)} {\\left(\\mathit{Db} k_{2} + \\beta\\right)} + \\beta</script></html>"
      ],
      "text/plain": [
       "(3*a^2 + Da*k2 - 1)*(Db*k2 + beta) + beta"
      ]
     },
     "metadata": {},
     "output_type": "display_data"
    },
    {
     "data": {
      "text/plain": [
       "100.000000000000*k2^2 - 81.2279467853614*k2 + 0.877205321463860"
      ]
     },
     "execution_count": 10,
     "metadata": {},
     "output_type": "execute_result"
    }
   ],
   "source": [
    "show(det(A))\n",
    "det(A).substitute(concrete).expand()"
   ]
  },
  {
   "cell_type": "code",
   "execution_count": 31,
   "metadata": {},
   "outputs": [],
   "source": [
    "def max_eig(k_squared): \n",
    "    A0 = A.substitute(concrete).substitute(k2=k_squared)\n",
    "    eigs0 = A0.eigenvalues()\n",
    "    return eigs0[1].n(30)"
   ]
  },
  {
   "cell_type": "code",
   "execution_count": 39,
   "metadata": {},
   "outputs": [
    {
     "data": {
      "text/plain": [
       "[(0, -0.097574085),\n",
       " (1, -0.059199512),\n",
       " (2, 0.035505950),\n",
       " (3, 0.14681511),\n",
       " (4, 0.24531724),\n",
       " (5, 0.31823574),\n",
       " (6, 0.36324748),\n",
       " (7, 0.38243917),\n",
       " (8, 0.37907541),\n",
       " (9, 0.35628641),\n",
       " (10, 0.31667230),\n",
       " (11, 0.26226938),\n",
       " (12, 0.19463348),\n",
       " (13, 0.11494255),\n",
       " (14, 0.024088323),\n",
       " (15, -0.077251554),\n",
       " (16, -0.18855870),\n",
       " (17, -0.30943316),\n",
       " (18, -0.43956411),\n",
       " (19, -0.57870758),\n",
       " (20, -0.72667050),\n",
       " (21, -0.88329887),\n",
       " (22, -1.0484692),\n",
       " (23, -1.2220808),\n",
       " (24, -1.4040519),\n",
       " (25, -1.5943148),\n",
       " (26, -1.7928145),\n",
       " (27, -1.9995041),\n",
       " (28, -2.2143445),\n",
       " (29, -2.4373040)]"
      ]
     },
     "execution_count": 39,
     "metadata": {},
     "output_type": "execute_result"
    }
   ],
   "source": [
    "[(m,max_eig(k_squares[m])) for m in range(30)]"
   ]
  },
  {
   "cell_type": "code",
   "execution_count": 20,
   "metadata": {},
   "outputs": [
    {
     "data": {
      "text/html": [
       "<html><script type=\"math/tex; mode=display\">\\newcommand{\\Bold}[1]{\\mathbf{#1}}\\left[\\left[k_{2} > -\\frac{1}{38542400} \\, \\sqrt{232004130382401} + \\frac{11047}{27200}, k_{2} < \\frac{1}{38542400} \\, \\sqrt{232004130382401} + \\frac{11047}{27200}\\right]\\right]</script></html>"
      ],
      "text/plain": [
       "[[k2 > -1/38542400*sqrt(232004130382401) + 11047/27200,\n",
       "  k2 < 1/38542400*sqrt(232004130382401) + 11047/27200]]"
      ]
     },
     "metadata": {},
     "output_type": "display_data"
    },
    {
     "name": "stdout",
     "output_type": "stream",
     "text": [
      "[[k2 > -1/38542400*sqrt(232004130382401) + 11047/27200, k2 < 1/38542400*sqrt(232004130382401) + 11047/27200]]\n"
     ]
    }
   ],
   "source": [
    "solns = solve(d0<0,k2)\n",
    "show(solns)\n",
    "print(solns)"
   ]
  },
  {
   "cell_type": "code",
   "execution_count": 21,
   "metadata": {},
   "outputs": [
    {
     "data": {
      "text/html": [
       "<html><script type=\"math/tex; mode=display\">\\newcommand{\\Bold}[1]{\\mathbf{#1}}0.010946833</script></html>"
      ],
      "text/plain": [
       "0.010946833"
      ]
     },
     "metadata": {},
     "output_type": "display_data"
    },
    {
     "data": {
      "text/html": [
       "<html><script type=\"math/tex; mode=display\">\\newcommand{\\Bold}[1]{\\mathbf{#1}}0.80133258</script></html>"
      ],
      "text/plain": [
       "0.80133258"
      ]
     },
     "metadata": {},
     "output_type": "display_data"
    }
   ],
   "source": [
    "show((-1/38542400*sqrt(232004130382401) + 11047/27200).n(30))\n",
    "show((1/38542400*sqrt(232004130382401) + 11047/27200).n(30))"
   ]
  },
  {
   "cell_type": "code",
   "execution_count": 38,
   "metadata": {},
   "outputs": [],
   "source": [
    "k_squares = [((m*2*pi/100)^2).n(30) for m in range(30)]"
   ]
  },
  {
   "cell_type": "code",
   "execution_count": 86,
   "metadata": {},
   "outputs": [
    {
     "data": {
      "text/html": [
       "<html><script type=\"math/tex; mode=display\">\\newcommand{\\Bold}[1]{\\mathbf{#1}}\\left[\\mathit{Db} = -\\frac{3}{180722597887000} \\, \\sqrt{183836633805955876900399773009} + \\frac{2361967873944741}{180722597887000}, \\mathit{Db} = \\frac{3}{180722597887000} \\, \\sqrt{183836633805955876900399773009} + \\frac{2361967873944741}{180722597887000}\\right]</script></html>"
      ],
      "text/plain": [
       "[Db == -3/180722597887000*sqrt(183836633805955876900399773009) + 2361967873944741/180722597887000, Db == 3/180722597887000*sqrt(183836633805955876900399773009) + 2361967873944741/180722597887000]"
      ]
     },
     "metadata": {},
     "output_type": "display_data"
    },
    {
     "name": "stdout",
     "output_type": "stream",
     "text": [
      "[\n",
      "Db == -3/180722597887000*sqrt(183836633805955876900399773009) + 2361967873944741/180722597887000,\n",
      "Db == 3/180722597887000*sqrt(183836633805955876900399773009) + 2361967873944741/180722597887000\n",
      "]\n"
     ]
    }
   ],
   "source": [
    "discriminant = 9*Db^2*a^4 - 6*Db^2*a^2 + Da^2*beta^2 + Db^2 - 2*(3*Da*Db*a^2 + Da*Db)*beta\n",
    "concrete_for_Db = {Da:1.0, alpha:-0.005, beta:10,a:a_eq,b:b_eq}\n",
    "discriminant_concrete = discriminant.substitute(concrete_for_Db)\n",
    "solns = solve(discriminant_concrete==0, Db)\n",
    "show(solns)\n",
    "print(solns)"
   ]
  },
  {
   "cell_type": "code",
   "execution_count": 88,
   "metadata": {},
   "outputs": [
    {
     "data": {
      "text/plain": [
       "20.187033"
      ]
     },
     "execution_count": 88,
     "metadata": {},
     "output_type": "execute_result"
    }
   ],
   "source": [
    "(3/180722597887000*sqrt(183836633805955876900399773009) + 2361967873944741/180722597887000).n(30)"
   ]
  },
  {
   "cell_type": "code",
   "execution_count": 68,
   "metadata": {},
   "outputs": [],
   "source": [
    "f11,f12,f21,f22 = var('f11,f12,f21,f22', domain=RR)\n",
    "\n",
    "Jg = matrix([[f11,f12],[f21,f22]])\n",
    "Ag = Jg - k2*D"
   ]
  },
  {
   "cell_type": "code",
   "execution_count": 71,
   "metadata": {},
   "outputs": [
    {
     "data": {
      "text/plain": [
       "[k2 == 1/2*(Db*f11 + Da*f22 - sqrt(Db^2*f11^2 + 4*Da*Db*f12*f21 - 2*Da*Db*f11*f22 + Da^2*f22^2))/(Da*Db), k2 == 1/2*(Db*f11 + Da*f22 + sqrt(Db^2*f11^2 + 4*Da*Db*f12*f21 - 2*Da*Db*f11*f22 + Da^2*f22^2))/(Da*Db)]"
      ]
     },
     "execution_count": 71,
     "metadata": {},
     "output_type": "execute_result"
    }
   ],
   "source": [
    "dg = Ag.determinant()\n",
    "solve(dg==0,k2)"
   ]
  },
  {
   "cell_type": "code",
   "execution_count": 75,
   "metadata": {},
   "outputs": [
    {
     "data": {
      "text/html": [
       "<html><script type=\"math/tex; mode=display\">\\newcommand{\\Bold}[1]{\\mathbf{#1}}\\left[\\mathit{Db} = -\\frac{2 \\, \\mathit{Da} f_{12} f_{21} - \\mathit{Da} f_{11} f_{22} + 2 \\, \\sqrt{f_{12}^{2} f_{21}^{2} - f_{11} f_{12} f_{21} f_{22}} \\mathit{Da}}{f_{11}^{2}}, \\mathit{Db} = -\\frac{2 \\, \\mathit{Da} f_{12} f_{21} - \\mathit{Da} f_{11} f_{22} - 2 \\, \\sqrt{f_{12}^{2} f_{21}^{2} - f_{11} f_{12} f_{21} f_{22}} \\mathit{Da}}{f_{11}^{2}}\\right]</script></html>"
      ],
      "text/plain": [
       "[Db == -(2*Da*f12*f21 - Da*f11*f22 + 2*sqrt(f12^2*f21^2 - f11*f12*f21*f22)*Da)/f11^2, Db == -(2*Da*f12*f21 - Da*f11*f22 - 2*sqrt(f12^2*f21^2 - f11*f12*f21*f22)*Da)/f11^2]"
      ]
     },
     "metadata": {},
     "output_type": "display_data"
    }
   ],
   "source": [
    "show(solve(Db^2*f11^2 + 4*Da*Db*f12*f21 - 2*Da*Db*f11*f22 + Da^2*f22^2==0,Db))"
   ]
  },
  {
   "cell_type": "code",
   "execution_count": 46,
   "metadata": {},
   "outputs": [
    {
     "data": {
      "text/plain": [
       "0.062831853"
      ]
     },
     "execution_count": 46,
     "metadata": {},
     "output_type": "execute_result"
    }
   ],
   "source": [
    "(2*pi/100).n(30)"
   ]
  },
  {
   "cell_type": "code",
   "execution_count": 54,
   "metadata": {},
   "outputs": [
    {
     "data": {
      "text/plain": [
       "[0.87720532,\n",
       " 0.55808878,\n",
       " -0.38055827,\n",
       " -1.8826282,\n",
       " -3.8546083,\n",
       " -6.1655808,\n",
       " -8.6472226,\n",
       " -11.093806,\n",
       " -13.262198,\n",
       " -14.871859,\n",
       " -15.604848,\n",
       " -15.105815,\n",
       " -12.982008,\n",
       " -8.8032665,\n",
       " -2.1020281,\n",
       " 7.6266760,\n",
       " 20.925220,\n",
       " 38.373382,\n",
       " 60.588347,\n",
       " 88.224704]"
      ]
     },
     "execution_count": 54,
     "metadata": {},
     "output_type": "execute_result"
    }
   ],
   "source": [
    "[d0.substitute(k2 = m^2*(2*pi/100)^2).n(30) for m in range(20)]"
   ]
  },
  {
   "cell_type": "code",
   "execution_count": 52,
   "metadata": {},
   "outputs": [
    {
     "data": {
      "text/plain": [
       "[-9.0877205,\n",
       " -9.4864525,\n",
       " -10.682649,\n",
       " -12.676309,\n",
       " -15.467433,\n",
       " -19.056021,\n",
       " -23.442073,\n",
       " -28.625589,\n",
       " -34.606570,\n",
       " -41.385014,\n",
       " -48.960922,\n",
       " -57.334295,\n",
       " -66.505131,\n",
       " -76.473432,\n",
       " -87.239196,\n",
       " -98.802425,\n",
       " -111.16312,\n",
       " -124.32127,\n",
       " -138.27689,\n",
       " -153.02998]"
      ]
     },
     "execution_count": 52,
     "metadata": {},
     "output_type": "execute_result"
    }
   ],
   "source": [
    "[t0.substitute(k2 = m^2*(2*pi/100)^2).n(30) for m in range(20)]"
   ]
  },
  {
   "cell_type": "code",
   "execution_count": 57,
   "metadata": {},
   "outputs": [
    {
     "data": {
      "text/plain": [
       "0.12566371"
      ]
     },
     "execution_count": 57,
     "metadata": {},
     "output_type": "execute_result"
    }
   ],
   "source": [
    "sqrt((4*(2*pi/100)^2)).n(30)"
   ]
  },
  {
   "cell_type": "code",
   "execution_count": null,
   "metadata": {},
   "outputs": [],
   "source": []
  }
 ],
 "metadata": {
  "kernelspec": {
   "display_name": "SageMath 8.3",
   "language": "",
   "name": "sagemath"
  },
  "language_info": {
   "codemirror_mode": {
    "name": "ipython",
    "version": 2
   },
   "file_extension": ".py",
   "mimetype": "text/x-python",
   "name": "python",
   "nbconvert_exporter": "python",
   "pygments_lexer": "ipython2",
   "version": "2.7.15"
  }
 },
 "nbformat": 4,
 "nbformat_minor": 2
}
