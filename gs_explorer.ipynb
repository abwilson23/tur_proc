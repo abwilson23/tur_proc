{
 "cells": [
  {
   "cell_type": "code",
   "execution_count": 4,
   "metadata": {},
   "outputs": [
    {
     "name": "stdout",
     "output_type": "stream",
     "text": [
      "None\n"
     ]
    }
   ],
   "source": [
    "import matplotlib.pyplot as plt\n",
    "import numpy as np\n",
    "\n",
    "from tutils import BaseStateSystem\n",
    "\n",
    "#######################################\n",
    "# Laplacian + initialisation functions#\n",
    "#######################################\n",
    "\n",
    "def laplacian1D(a, dx):\n",
    "    return (\n",
    "        - 2 * a\n",
    "        + np.roll(a,1,axis=0) \n",
    "        + np.roll(a,-1,axis=0)\n",
    "    ) / (dx ** 2)\n",
    "\n",
    "def random_initialiser(shape):\n",
    "    return(\n",
    "        np.random.normal(loc=0, scale=0.05, size=shape),\n",
    "        np.random.normal(loc=0, scale=0.05, size=shape)\n",
    "    )\n",
    "\n",
    "def function_initialiser(shape,f1,f2):\n",
    "    space = range(shape)\n",
    "    return(\n",
    "        np.fromiter(map(f1,space),float),\n",
    "        np.fromiter(map(f2,space),float)\n",
    "    )\n",
    "\n",
    "# Initialisation functions\n",
    "f1 = lambda x : eq_pt*(1 + pert_a(x))\n",
    "f2 = lambda x : eq_pt*(1 + pert_b(x))\n",
    "\n",
    "#######################################\n",
    "# eq_point, and perturbation choices  #\n",
    "#######################################\n",
    "\n",
    "# constants used to define wavenumber\n",
    "m_vals = [7, 12, 23, 29]\n",
    "m = m_vals[0]\n",
    "\n",
    "# Perturbation from equilibrium\n",
    "def pert_a(x): return np.cos(m*2*np.pi*x/100)\n",
    "def pert_b(x): return np.cos(m*2*np.pi*x/100)\n",
    "\n",
    "# Reaction equations\n",
    "def Ra(a,b): return a - a ** 3 - b + alpha\n",
    "def Rb(a,b): return (a - b) * beta\n",
    "\n",
    "# Diffusion and reaction constants \n",
    "Da, Db, alpha, beta = 1, 100, -0.005, 10\n",
    "\n",
    "# Computing the equilibrium point of the system. \n",
    "eq_pt = np.cbrt(alpha)\n",
    "\n",
    "#######################################################\n",
    "# Main class #\n",
    "#######################################################\n",
    "\n",
    "class OneDimensionalRDEquations(BaseStateSystem):\n",
    "    def __init__(self, Da, Db, Ra, Rb,\n",
    "                 initialiser=random_initialiser,\n",
    "                 width=1000, dx=1, \n",
    "                 dt=0.1, steps=1):\n",
    "        \n",
    "        self.Da = Da\n",
    "        self.Db = Db\n",
    "        self.Ra = Ra\n",
    "        self.Rb = Rb\n",
    "        \n",
    "        self.initialiser = initialiser\n",
    "        self.width = width\n",
    "        self.dx = dx\n",
    "        self.dt = dt\n",
    "        self.steps = steps\n",
    " \n",
    "    def initialise(self):\n",
    "        self.t = 0\n",
    "        self.a, self.b = function_initialiser(self.width,f1,f2)\n",
    "\n",
    "    def update(self):\n",
    "        for _ in range(self.steps):\n",
    "            self.t += self.dt\n",
    "            self._update()\n",
    "\n",
    "    def _update(self):\n",
    "        # unpack so we don't have to keep writing \"self\"\n",
    "        a,b,Da,Db,Ra,Rb,dt,dx = (\n",
    "            self.a, self.b,\n",
    "            self.Da, self.Db,\n",
    "            self.Ra, self.Rb,\n",
    "            self.dt, self.dx\n",
    "        )\n",
    "\n",
    "        La = laplacian1D(a, dx)\n",
    "        Lb = laplacian1D(b, dx)\n",
    "        \n",
    "        delta_a = dt * (Da * La + Ra(a,b))\n",
    "        delta_b = dt * (Db * Lb + Rb(a,b))\n",
    "\n",
    "        self.a += delta_a\n",
    "        self.b += delta_b\n",
    "        \n",
    "    def draw(self, ax):\n",
    "        print (\"draw: {}\".format(self.t))\n",
    "        ax.clear()\n",
    "        ax.plot(self.a, color=\"r\", label=\"A\")\n",
    "        ax.plot(self.b, color=\"b\", label=\"B\")\n",
    "        ax.legend()\n",
    "        ax.set_ylim(-1, 1)\n",
    "        ax.set_title(\"t = {:.2f}\".format(self.t))\n",
    "\n",
    "    def custom_draw(self, vals, title, filename):\n",
    "        fig, ax = self.initialise_figure()\n",
    "        # accurate x-axis markers\n",
    "        x = np.linspace(0, self.steps*dt*len(vals), len(vals))\n",
    "        ax.clear()\n",
    "        ax.plot(x, vals, color=\"r\", label=\"a\")\n",
    "        plt.xlabel('t')\n",
    "        ax.legend()\n",
    "        #ax.set_ylim(min(vals), max(vals))\n",
    "        ax.set_ylim(-3, 3)\n",
    "        fig.savefig('plots/' + filename + '.png')\n",
    "        plt.close()\n",
    "    \n",
    "    # plots the amplitude of a(x,t) over n_steps as a function of t by taking\n",
    "    # the ptp (peak to peak) value of a(x,t) at each time t and plotting the result. \n",
    "    def plot_amplitude(self, n_steps):\n",
    "        self.initialise() # reset equation before plotting\n",
    "        amp = np.array([])\n",
    "\n",
    "        for _ in range(n_steps):\n",
    "            amp = np.append(amp, self.a.ptp()) # measure peak to peak, i.e., get amplitude\n",
    "            self.update()\n",
    "\n",
    "        title = \"amp,t={0:.2f},n={1}\".format(self.t, n_steps)\n",
    "        filename = \"amp_plot_n={}\".format(n_steps)\n",
    "        self.custom_draw(amp, title, filename)\n",
    "\n",
    "    # tracks a(pt, t) for n_steps of time, t. Plots a as a function of t.\n",
    "    def track_growth(self, pt, n_steps):\n",
    "        self.initialise() # reset equation before tracking\n",
    "        orbit_a = np.array([])\n",
    "\n",
    "        for _ in range(n_steps):\n",
    "            orbit_a = np.append(orbit_a, self.get_val(pt))\n",
    "            self.update()\n",
    "            \n",
    "        return orbit_a\n",
    "\n",
    "    def plot_growth(self, pt, n_steps):\n",
    "        orbit_a = self.track_growth(pt, n_steps)\n",
    "        title = \"growth,t={0:.2f},n={1},pt={2}\".format(self.t, n_steps, pt)\n",
    "        filename = \"growth_x={0:.1f}_n={1}\".format(pt, n_steps)\n",
    "        self.custom_draw(orbit_a, title, filename)\n",
    "\n",
    "    def approx_omega(self, growth):\n",
    "        return (np.log(np.abs( growth/eq_pt - 1) ))\n",
    "\n",
    "    def plot_growth_rate(self, pt, n_steps):\n",
    "        growth = self.track_growth(pt, n_steps)\n",
    "        growth_line = self.approx_omega(growth)\n",
    "\n",
    "        title = \"growth_rate_t={0:.2f}_n={1}_pt={2}\".format(self.t, n_steps, pt)\n",
    "        filename = \"growth_x={0:.1f}_n={1}_m={2}\".format(pt, n_steps, m)\n",
    "        self.custom_draw(growth_line, title, filename)\n",
    "\n",
    "    def get_val(self, pt):\n",
    "        assert 0 <= pt < self.width, \"Point is not in the domain\"\n",
    "        if pt in range(self.width):\n",
    "            return self.a[pt]\n",
    "        else: \n",
    "            return self.interpolate(pt)\n",
    "        \n",
    "    def interpolate(self, pt):\n",
    "        x_vals = [int(np.floor(pt)), int(np.ceil(pt))]\n",
    "        a_vals = [self.a[j] for j in x_vals]\n",
    "        return np.interp(pt, x_vals, a_vals)\n",
    "\n",
    "# Local playground values #\n",
    "\n",
    "width = 100\n",
    "steps = 1\n",
    "dx = 1\n",
    "dt = 0.001\n",
    "\n",
    "equation = OneDimensionalRDEquations(\n",
    "    Da, Db, Ra, Rb, \n",
    "    width=width, dx=dx, dt=dt, \n",
    "    steps=steps\n",
    ")\n",
    "\n",
    "# Pre-initialise our equation so we don't have to keep calling this in playground\n",
    "equation.initialise()\n",
    "\n"
   ]
  },
  {
   "cell_type": "markdown",
   "metadata": {},
   "source": [
    "Plotting the time evolution for m = 29. "
   ]
  },
  {
   "cell_type": "markdown",
   "metadata": {},
   "source": [
    "![SegmentLocal](gifs/1dRD_m=29.gif \"segment\") "
   ]
  },
  {
   "cell_type": "markdown",
   "metadata": {},
   "source": [
    "Plotting time evolution for m = 7."
   ]
  },
  {
   "cell_type": "markdown",
   "metadata": {},
   "source": [
    "![SegmentLocal](gifs/1dRD_m=7.gif \"segment\") "
   ]
  },
  {
   "cell_type": "markdown",
   "metadata": {},
   "source": [
    "Fix a particular x and track the growth rate of **u**(x,t). Here for x = 0, and x = 7.1"
   ]
  },
  {
   "cell_type": "markdown",
   "metadata": {},
   "source": [
    "A | B\n",
    "- | - \n",
    "![alt](plots/growth_x=0.0_n=80.png) | ![alt](plots/growth_x=7.1_n=80.png)"
   ]
  },
  {
   "cell_type": "markdown",
   "metadata": {},
   "source": [
    "It looks roughly exponential! We investigate if the the numerical simulations align with the predicted growth rates in the theoretical analysis. We'll use our log formula to approximate omega. In particular, for m=7 we observe the following graph. "
   ]
  },
  {
   "cell_type": "markdown",
   "metadata": {},
   "source": [
    "![alt](plots/predic_vs_sim_m=7.png)"
   ]
  },
  {
   "cell_type": "markdown",
   "metadata": {},
   "source": [
    "Positive predicted growth rates compared with our Log approximation."
   ]
  },
  {
   "cell_type": "markdown",
   "metadata": {},
   "source": [
    "![alt](plots/pred_vs_sim_pos_m.png)"
   ]
  },
  {
   "cell_type": "markdown",
   "metadata": {},
   "source": [
    "Negative predicted growth rates compared with our Log approximation."
   ]
  },
  {
   "cell_type": "markdown",
   "metadata": {},
   "source": [
    "A | B\n",
    "- | - \n",
    "![alt](plots/pred_vs_sim_m_neg.png) | ![alt](plots/bad_bois.png)"
   ]
  },
  {
   "cell_type": "code",
   "execution_count": null,
   "metadata": {},
   "outputs": [],
   "source": []
  }
 ],
 "metadata": {
  "kernelspec": {
   "display_name": "Python 3",
   "language": "python",
   "name": "python3"
  },
  "language_info": {
   "codemirror_mode": {
    "name": "ipython",
    "version": 3
   },
   "file_extension": ".py",
   "mimetype": "text/x-python",
   "name": "python",
   "nbconvert_exporter": "python",
   "pygments_lexer": "ipython3",
   "version": "3.7.5"
  }
 },
 "nbformat": 4,
 "nbformat_minor": 2
}
